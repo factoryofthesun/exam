{
 "cells": [
  {
   "cell_type": "markdown",
   "metadata": {},
   "source": [
    "#### This notebook is designed to demonstrate the functioning of the `exam` API by simulating treatment effect, WTP, and predicted treatment data, then running through the probability assignment and effect estimation portions of the package."
   ]
  },
  {
   "cell_type": "code",
   "execution_count": 1,
   "metadata": {},
   "outputs": [],
   "source": [
    "import numpy as np\n",
    "import pandas as pd"
   ]
  },
  {
   "cell_type": "markdown",
   "metadata": {},
   "source": [
    "## Simulate Data"
   ]
  },
  {
   "cell_type": "markdown",
   "metadata": {},
   "source": [
    "We will simulate the effect of 2 treatments (and 1 control group), along with some randomly generated control variables, for a sample of 1000."
   ]
  },
  {
   "cell_type": "code",
   "execution_count": 2,
   "metadata": {},
   "outputs": [],
   "source": [
    "np.random.seed(1)\n",
    "n_treatments = 2\n",
    "\n",
    "effects = np.random.choice(range(1,50), n_treatments)\n",
    "effects = np.append(0, effects)\n",
    "controls = np.random.uniform(-5, 5, size = (1000, 3))\n",
    "control_effects = np.random.choice(range(-5,5), replace = False, size = 3)\n",
    "error = np.random.uniform(size = 1000)\n",
    "Y = np.sum(controls*control_effects, axis=1)[:,np.newaxis] + np.repeat(effects[np.newaxis,:], 1000, axis=0) + error[:,np.newaxis]"
   ]
  },
  {
   "cell_type": "code",
   "execution_count": 3,
   "metadata": {},
   "outputs": [
    {
     "data": {
      "text/plain": [
       "array([[14.18526663, 52.18526663, 58.18526663],\n",
       "       [-9.27626814, 28.72373186, 34.72373186],\n",
       "       [-5.02548602, 32.97451398, 38.97451398],\n",
       "       [-4.90627679, 33.09372321, 39.09372321],\n",
       "       [20.15014845, 58.15014845, 64.15014845]])"
      ]
     },
     "execution_count": 3,
     "metadata": {},
     "output_type": "execute_result"
    }
   ],
   "source": [
    "Y[:5]"
   ]
  },
  {
   "cell_type": "markdown",
   "metadata": {},
   "source": [
    "WTP (willingness to pay) and PTE (predicted treatment effects) will be computed as a function of the true effects. Specifically, WTP will be the quintile index of the control effects on outcome and PTE will be half of the true treatment effects."
   ]
  },
  {
   "cell_type": "code",
   "execution_count": 4,
   "metadata": {},
   "outputs": [],
   "source": [
    "control_outcomes = controls*control_effects"
   ]
  },
  {
   "cell_type": "code",
   "execution_count": 5,
   "metadata": {},
   "outputs": [],
   "source": [
    "from scipy import stats\n",
    "wtp = np.array([stats.percentileofscore(control_outcomes.flatten(), x) for x in control_outcomes.flatten()]).reshape(1000,3)\n",
    "wtp = (np.ceil(wtp/20)*20).astype(int)"
   ]
  },
  {
   "cell_type": "code",
   "execution_count": 6,
   "metadata": {},
   "outputs": [],
   "source": [
    "pte = np.repeat(effects[np.newaxis,:]/2, 1000, axis=0)"
   ]
  },
  {
   "cell_type": "code",
   "execution_count": 7,
   "metadata": {},
   "outputs": [
    {
     "name": "stdout",
     "output_type": "stream",
     "text": [
      "[[100 100  60]\n",
      " [ 20 100  60]\n",
      " [ 20  80  60]\n",
      " [ 20  40  60]\n",
      " [100 100  60]]\n",
      "[[ 0. 19. 22.]\n",
      " [ 0. 19. 22.]\n",
      " [ 0. 19. 22.]\n",
      " [ 0. 19. 22.]\n",
      " [ 0. 19. 22.]]\n"
     ]
    }
   ],
   "source": [
    "print(wtp[:5])\n",
    "print(pte[:5])"
   ]
  },
  {
   "cell_type": "markdown",
   "metadata": {},
   "source": [
    "## Compute treatment probabilities"
   ]
  },
  {
   "cell_type": "markdown",
   "metadata": {},
   "source": [
    "We can now use our simulated data to compute treatment probabilities and simulate a random experiment. "
   ]
  },
  {
   "cell_type": "code",
   "execution_count": 8,
   "metadata": {},
   "outputs": [],
   "source": [
    "from exam import compute_probs"
   ]
  },
  {
   "cell_type": "code",
   "execution_count": 9,
   "metadata": {},
   "outputs": [
    {
     "name": "stdout",
     "output_type": "stream",
     "text": [
      "Running market clearing algorithm with parameters\n",
      "--------------------\n",
      "# treatments: 3\n",
      "# subjects: 1000\n",
      "capacity: [334 333 333]\n",
      "epsilon-bound: 0.2\n",
      "error clearing threshold: 0.01\n",
      "iterations threshold: 20\n",
      "budget type: constant\n",
      "\n",
      "get_clearing_error: Clearing error: 0.0840157499424417\n",
      "get_clearing_error: Clearing error: 0.07810794014799348\n",
      "get_clearing_error: Clearing error: 0.05979902085022213\n",
      "get_clearing_error: Clearing error: 0.04803189149353608\n",
      "get_clearing_error: Clearing error: 0.039924106513476165\n",
      "get_clearing_error: Clearing error: 0.033934843230654745\n",
      "get_clearing_error: Clearing error: 0.029303775626963773\n",
      "get_clearing_error: Clearing error: 0.02560678339788253\n",
      "get_clearing_error: Clearing error: 0.022585112215364564\n",
      "get_clearing_error: Clearing error: 0.02007032828761799\n",
      "get_clearing_error: Clearing error: 0.017947942454750055\n",
      "get_clearing_error: Clearing error: 0.01613709462736367\n",
      "get_clearing_error: Clearing error: 0.0145783652058562\n",
      "get_clearing_error: Clearing error: 0.013227246788095653\n",
      "get_clearing_error: Clearing error: 0.012049704937848377\n",
      "get_clearing_error: Clearing error: 0.011019240497233148\n",
      "get_clearing_error: Clearing error: 0.010114911389727001\n",
      "get_clearing_error: Clearing error: 0.009319951369516702\n",
      "Minimum clearing error: 0.009319951369516702\n",
      "Alpha_star: -27.338096163370622\n",
      "Beta star: [ 483.2587913  -233.48446213 -185.35717573]\n"
     ]
    }
   ],
   "source": [
    "ret = compute_probs(wtp, pte, probability_bound = 0.2, iterations_threshold = 20, subject_ids = [f\"subject_{i}\" for i in range(1000)], \n",
    "                    treatment_labels = [f\"treatment_{i}\" for i in range(n_treatments + 1)])"
   ]
  },
  {
   "cell_type": "code",
   "execution_count": 10,
   "metadata": {},
   "outputs": [
    {
     "name": "stdout",
     "output_type": "stream",
     "text": [
      "dict_keys(['p_star', 'error', 'alpha_star', 'beta_star'])\n"
     ]
    }
   ],
   "source": [
    "print(ret.keys())"
   ]
  },
  {
   "cell_type": "code",
   "execution_count": 11,
   "metadata": {},
   "outputs": [
    {
     "data": {
      "text/html": [
       "<div>\n",
       "<style scoped>\n",
       "    .dataframe tbody tr th:only-of-type {\n",
       "        vertical-align: middle;\n",
       "    }\n",
       "\n",
       "    .dataframe tbody tr th {\n",
       "        vertical-align: top;\n",
       "    }\n",
       "\n",
       "    .dataframe thead th {\n",
       "        text-align: right;\n",
       "    }\n",
       "</style>\n",
       "<table border=\"1\" class=\"dataframe\">\n",
       "  <thead>\n",
       "    <tr style=\"text-align: right;\">\n",
       "      <th></th>\n",
       "      <th>treatment_0</th>\n",
       "      <th>treatment_1</th>\n",
       "      <th>treatment_2</th>\n",
       "    </tr>\n",
       "  </thead>\n",
       "  <tbody>\n",
       "    <tr>\n",
       "      <th>subject_0</th>\n",
       "      <td>0.474012</td>\n",
       "      <td>0.325988</td>\n",
       "      <td>0.200000</td>\n",
       "    </tr>\n",
       "    <tr>\n",
       "      <th>subject_1</th>\n",
       "      <td>0.200601</td>\n",
       "      <td>0.599399</td>\n",
       "      <td>0.200000</td>\n",
       "    </tr>\n",
       "    <tr>\n",
       "      <th>subject_2</th>\n",
       "      <td>0.200601</td>\n",
       "      <td>0.599399</td>\n",
       "      <td>0.200000</td>\n",
       "    </tr>\n",
       "    <tr>\n",
       "      <th>subject_3</th>\n",
       "      <td>0.200601</td>\n",
       "      <td>0.200000</td>\n",
       "      <td>0.599399</td>\n",
       "    </tr>\n",
       "    <tr>\n",
       "      <th>subject_4</th>\n",
       "      <td>0.474012</td>\n",
       "      <td>0.325988</td>\n",
       "      <td>0.200000</td>\n",
       "    </tr>\n",
       "  </tbody>\n",
       "</table>\n",
       "</div>"
      ],
      "text/plain": [
       "           treatment_0  treatment_1  treatment_2\n",
       "subject_0     0.474012     0.325988     0.200000\n",
       "subject_1     0.200601     0.599399     0.200000\n",
       "subject_2     0.200601     0.599399     0.200000\n",
       "subject_3     0.200601     0.200000     0.599399\n",
       "subject_4     0.474012     0.325988     0.200000"
      ]
     },
     "execution_count": 11,
     "metadata": {},
     "output_type": "execute_result"
    }
   ],
   "source": [
    "probs = ret['p_star']\n",
    "probs.head()"
   ]
  },
  {
   "cell_type": "markdown",
   "metadata": {},
   "source": [
    "Using our computed probabilities, we can assign treatment and simulate the random experiment."
   ]
  },
  {
   "cell_type": "code",
   "execution_count": 12,
   "metadata": {},
   "outputs": [],
   "source": [
    "from exam import assign"
   ]
  },
  {
   "cell_type": "code",
   "execution_count": 13,
   "metadata": {},
   "outputs": [
    {
     "data": {
      "text/plain": [
       "0    1\n",
       "1    1\n",
       "2    1\n",
       "3    2\n",
       "4    0\n",
       "Name: assignment, dtype: int64"
      ]
     },
     "execution_count": 13,
     "metadata": {},
     "output_type": "execute_result"
    }
   ],
   "source": [
    "assignments = assign(probs)\n",
    "assignments.head()"
   ]
  },
  {
   "cell_type": "code",
   "execution_count": 14,
   "metadata": {},
   "outputs": [
    {
     "data": {
      "text/plain": [
       "2    339\n",
       "1    336\n",
       "0    325\n",
       "Name: assignment, dtype: int64"
      ]
     },
     "execution_count": 14,
     "metadata": {},
     "output_type": "execute_result"
    }
   ],
   "source": [
    "assignments.value_counts()"
   ]
  },
  {
   "cell_type": "code",
   "execution_count": 15,
   "metadata": {},
   "outputs": [
    {
     "name": "stdout",
     "output_type": "stream",
     "text": [
      "[[14.18526663 52.18526663 58.18526663]\n",
      " [-9.27626814 28.72373186 34.72373186]\n",
      " [-5.02548602 32.97451398 38.97451398]\n",
      " [-4.90627679 33.09372321 39.09372321]\n",
      " [20.15014845 58.15014845 64.15014845]]\n",
      "[52.18526663 28.72373186 32.97451398 39.09372321 20.15014845]\n"
     ]
    }
   ],
   "source": [
    "outcomes = Y[(np.arange(1000), assignments.to_numpy().flatten())]\n",
    "print(Y[:5])\n",
    "print(outcomes[:5])"
   ]
  },
  {
   "cell_type": "markdown",
   "metadata": {},
   "source": [
    "## Estimate treatment effects"
   ]
  },
  {
   "cell_type": "markdown",
   "metadata": {},
   "source": [
    "The `exam` package offers two methods of estimation, \"matched\" (default) using propensity-score matched regressions, and \"single\" using a single regression controlling for propensity scores.\n",
    "\n",
    "**Note:** The package will automatically check whether certain subpopulation regressions are rank-deficient and drop them from estimation. This may skew the estimation results if your computed propensity vectors are not coarse enough."
   ]
  },
  {
   "cell_type": "code",
   "execution_count": 16,
   "metadata": {},
   "outputs": [],
   "source": [
    "from exam import estimate_effects"
   ]
  },
  {
   "cell_type": "code",
   "execution_count": 17,
   "metadata": {},
   "outputs": [],
   "source": [
    "controls = pd.DataFrame(controls, columns=['x1', 'x2', 'x3'])"
   ]
  },
  {
   "cell_type": "code",
   "execution_count": 18,
   "metadata": {},
   "outputs": [
    {
     "name": "stdout",
     "output_type": "stream",
     "text": [
      "---------------------------------------------------------------------------\n",
      "ATE estimation method: propensity subpopulation regressions\n",
      "---------------------------------------------------------------------------\n",
      "Dropping 0 propensity score vectors that have too few occurrences (<6)...\n",
      "Estimated treatment effects:\n",
      "1    38.031101\n",
      "2    44.023809\n",
      "dtype: float64\n",
      "P-values:\n",
      "1    0.0\n",
      "2    0.0\n",
      "Name: p-value, dtype: float64\n",
      "---------------------------------------------------------------------------\n",
      "ATE estimation method: single regression with propensity controls\n",
      "---------------------------------------------------------------------------\n",
      "                            OLS Regression Results                            \n",
      "==============================================================================\n",
      "Dep. Variable:                      Y   R-squared:                       1.000\n",
      "Model:                            OLS   Adj. R-squared:                  1.000\n",
      "Method:                 Least Squares   F-statistic:                 7.152e+05\n",
      "Date:                Thu, 19 Nov 2020   Prob (F-statistic):               0.00\n",
      "Time:                        15:32:42   Log-Likelihood:                -161.40\n",
      "No. Observations:                1000   AIC:                             338.8\n",
      "Df Residuals:                     992   BIC:                             378.1\n",
      "Df Model:                           7                                         \n",
      "Covariance Type:            nonrobust                                         \n",
      "==============================================================================\n",
      "                 coef    std err          t      P>|t|      [0.025      0.975]\n",
      "------------------------------------------------------------------------------\n",
      "const          0.3263      0.087      3.758      0.000       0.156       0.497\n",
      "1             38.0344      0.023   1626.005      0.000      37.988      38.080\n",
      "2             44.0289      0.023   1896.564      0.000      43.983      44.074\n",
      "prob_1         0.1034      0.144      0.718      0.473      -0.179       0.386\n",
      "prob_2         0.3305      0.138      2.403      0.016       0.061       0.600\n",
      "x1             4.0036      0.006    634.909      0.000       3.991       4.016\n",
      "x2            -1.0132      0.005   -200.974      0.000      -1.023      -1.003\n",
      "x3             0.0038      0.003      1.219      0.223      -0.002       0.010\n",
      "==============================================================================\n",
      "Omnibus:                      596.231   Durbin-Watson:                   1.899\n",
      "Prob(Omnibus):                  0.000   Jarque-Bera (JB):               57.276\n",
      "Skew:                          -0.000   Prob(JB):                     3.65e-13\n",
      "Kurtosis:                       1.828   Cond. No.                         66.1\n",
      "==============================================================================\n",
      "\n",
      "Notes:\n",
      "[1] Standard Errors assume that the covariance matrix of the errors is correctly specified.\n"
     ]
    }
   ],
   "source": [
    "matched_est = estimate_effects(Y = outcomes, D = assignments, probs = probs, X = controls)\n",
    "single_est = estimate_effects(Y = outcomes, D = assignments, probs = probs, X = controls, method = \"single\")"
   ]
  },
  {
   "cell_type": "markdown",
   "metadata": {},
   "source": [
    "We see that the estimates from both methods are able to reasonably capture the true treatment effects"
   ]
  },
  {
   "cell_type": "code",
   "execution_count": 19,
   "metadata": {},
   "outputs": [
    {
     "data": {
      "text/plain": [
       "array([ 0, 38, 44])"
      ]
     },
     "execution_count": 19,
     "metadata": {},
     "output_type": "execute_result"
    }
   ],
   "source": [
    "effects"
   ]
  },
  {
   "cell_type": "code",
   "execution_count": null,
   "metadata": {},
   "outputs": [],
   "source": []
  }
 ],
 "metadata": {
  "kernelspec": {
   "display_name": "Python 3",
   "language": "python",
   "name": "python3"
  },
  "language_info": {
   "codemirror_mode": {
    "name": "ipython",
    "version": 3
   },
   "file_extension": ".py",
   "mimetype": "text/x-python",
   "name": "python",
   "nbconvert_exporter": "python",
   "pygments_lexer": "ipython3",
   "version": "3.9.0"
  }
 },
 "nbformat": 4,
 "nbformat_minor": 4
}
