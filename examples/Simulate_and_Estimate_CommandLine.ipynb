{
 "cells": [
  {
   "cell_type": "markdown",
   "metadata": {},
   "source": [
    "#### This notebook is designed to demonstrate the functioning of the `exam` command line tool by simulating treatment effect, WTP, and predicted treatment data, then running through the probability assignment and effect estimation portions of the package."
   ]
  },
  {
   "cell_type": "code",
   "execution_count": 1,
   "metadata": {},
   "outputs": [],
   "source": [
    "import numpy as np\n",
    "import pandas as pd"
   ]
  },
  {
   "cell_type": "markdown",
   "metadata": {},
   "source": [
    "## Simulate Data"
   ]
  },
  {
   "cell_type": "markdown",
   "metadata": {},
   "source": [
    "We will simulate the effect of 2 treatments (and 1 control group), along with some randomly generated control variables, for a sample of 1000."
   ]
  },
  {
   "cell_type": "code",
   "execution_count": 2,
   "metadata": {},
   "outputs": [],
   "source": [
    "np.random.seed(2)\n",
    "n_treatments = 2\n",
    "\n",
    "effects = np.random.choice(range(1,50), n_treatments)\n",
    "effects = np.append(0, effects)\n",
    "controls = np.random.uniform(-5, 5, size = (1000, 3))\n",
    "control_effects = np.random.choice(range(-5,5), replace = False, size = 3)\n",
    "error = np.random.uniform(size = 1000)\n",
    "Y = np.sum(controls*control_effects, axis=1)[:,np.newaxis] + np.repeat(effects[np.newaxis,:], 1000, axis=0) + error[:,np.newaxis]"
   ]
  },
  {
   "cell_type": "code",
   "execution_count": 3,
   "metadata": {},
   "outputs": [
    {
     "data": {
      "text/plain": [
       "array([[-2.78148316, 38.21851684, 13.21851684],\n",
       "       [17.09378918, 58.09378918, 33.09378918],\n",
       "       [17.34526741, 58.34526741, 33.34526741],\n",
       "       [15.10134814, 56.10134814, 31.10134814],\n",
       "       [-1.04175403, 39.95824597, 14.95824597]])"
      ]
     },
     "execution_count": 3,
     "metadata": {},
     "output_type": "execute_result"
    }
   ],
   "source": [
    "Y[:5]"
   ]
  },
  {
   "cell_type": "markdown",
   "metadata": {},
   "source": [
    "WTP (willingness to pay) and PTE (predicted treatment effects) will be computed as a function of the true effects. Specifically, WTP will be the quintile index of the control effects on outcome and PTE will be half of the true treatment effects."
   ]
  },
  {
   "cell_type": "code",
   "execution_count": 5,
   "metadata": {},
   "outputs": [],
   "source": [
    "control_outcomes = controls*control_effects"
   ]
  },
  {
   "cell_type": "code",
   "execution_count": 6,
   "metadata": {},
   "outputs": [],
   "source": [
    "from scipy import stats\n",
    "wtp = np.array([stats.percentileofscore(control_outcomes.flatten(), x) for x in control_outcomes.flatten()]).reshape(1000,3)\n",
    "wtp = (np.ceil(wtp/20)*20).astype(int)"
   ]
  },
  {
   "cell_type": "code",
   "execution_count": 7,
   "metadata": {},
   "outputs": [],
   "source": [
    "pte = np.repeat(effects[np.newaxis,:]/2, 1000, axis=0)"
   ]
  },
  {
   "cell_type": "code",
   "execution_count": 8,
   "metadata": {},
   "outputs": [
    {
     "name": "stdout",
     "output_type": "stream",
     "text": [
      "[[ 40  60  80]\n",
      " [ 60  80 100]\n",
      " [ 60  80 100]\n",
      " [ 60  60 100]\n",
      " [ 60 100  20]]\n",
      "[[ 0.  20.5  8. ]\n",
      " [ 0.  20.5  8. ]\n",
      " [ 0.  20.5  8. ]\n",
      " [ 0.  20.5  8. ]\n",
      " [ 0.  20.5  8. ]]\n"
     ]
    }
   ],
   "source": [
    "print(wtp[:5])\n",
    "print(pte[:5])"
   ]
  },
  {
   "cell_type": "markdown",
   "metadata": {},
   "source": [
    "## Compute treatment probabilities"
   ]
  },
  {
   "cell_type": "markdown",
   "metadata": {},
   "source": [
    "The `exam` compute_probs.py command line tool requires a saved CSV file containing the WTP columns, followed by the PTE columns. The indices of the file will be assumed to be the subject ids, and (unless otherwise specified) the column names will be assumed to be the treatment labels. "
   ]
  },
  {
   "cell_type": "code",
   "execution_count": 9,
   "metadata": {},
   "outputs": [],
   "source": [
    "# Save WTP and PTE data\n",
    "tot_arr = np.column_stack([wtp, pte])\n",
    "df = pd.DataFrame(tot_arr, columns = [\"control\", \"treatment1\", \"treatment2\"]*2, index = [f\"subject{i}\" for i in range(1000)])\n",
    "df.to_csv(\"data/sim_data.csv\")"
   ]
  },
  {
   "cell_type": "markdown",
   "metadata": {},
   "source": [
    "With just WTP and PTE, we can now compute our welfare-optimal treatment probabilities. `compute_probs.py` can take a variety of parameters, but the only required one is our saved data. "
   ]
  },
  {
   "cell_type": "code",
   "execution_count": 13,
   "metadata": {},
   "outputs": [
    {
     "name": "stdout",
     "output_type": "stream",
     "text": [
      "usage: compute_probs.py [-h] --data DATA [--output OUTPUT]\n",
      "                        [--assign_output ASSIGN_OUTPUT]\n",
      "                        [--capacity [CAPACITY ...]] [--pbound PBOUND]\n",
      "                        [--error ERROR] [--iterations ITERATIONS]\n",
      "                        [--budget BUDGET] [--subject_budgets SUBJECT_BUDGETS]\n",
      "                        [--labels [LABELS ...]] [--index]\n",
      "\n",
      "optional arguments:\n",
      "  -h, --help            show this help message and exit\n",
      "  --data DATA           Path to CSV containing WTP and PTE, in that order. If\n",
      "                        --index flag toggled, the first column will be assumed\n",
      "                        to be the index containing subject ids. The columns\n",
      "                        will be taken to be treatment labels, unless otherwise\n",
      "                        specified in --labels.\n",
      "  --output OUTPUT       Path to save CSV file with treatment probabilities.\n",
      "  --assign_output ASSIGN_OUTPUT\n",
      "                        Path to save CSV file with treatment assignments.\n",
      "  --capacity [CAPACITY ...]\n",
      "                        List of treatment capacities (integer).\n",
      "  --pbound PBOUND       The minimum bound for any treatment assignment\n",
      "                        probability. All computed probabilities will be\n",
      "                        constrained within [e, 1-e] where e is the probability\n",
      "                        bound.\n",
      "  --error ERROR         Minimum market clearing error.\n",
      "  --iterations ITERATIONS\n",
      "                        Maximum number of algorithm iterations before a new\n",
      "                        search is conducted.\n",
      "  --budget BUDGET       Common budget to distribute to every subject.\n",
      "  --subject_budgets SUBJECT_BUDGETS\n",
      "                        Path to CSV file containing subject-specific budgets.\n",
      "  --labels [LABELS ...]\n",
      "                        List of treatment labels.\n",
      "  --index               Flag to indicate data has index column to use\n"
     ]
    }
   ],
   "source": [
    "!python ../exam/compute_probs.py -h"
   ]
  },
  {
   "cell_type": "markdown",
   "metadata": {},
   "source": [
    "We will save the computed probabilities to \"data/sim_data_probs.csv\" and our assigned treatments to \"data/sim_data_assignments.csv\". Note that our saved data has an index column with subject ids, so we will need to toggle the `--index` flag. We will also set a probability bound so that no one subject is guaranteed a particular treatment. "
   ]
  },
  {
   "cell_type": "code",
   "execution_count": 58,
   "metadata": {},
   "outputs": [
    {
     "name": "stdout",
     "output_type": "stream",
     "text": [
      "Running market clearing algorithm with parameters\n",
      "--------------------\n",
      "# treatments: 3\n",
      "# subjects: 1000\n",
      "capacity: [334 333 333]\n",
      "epsilon-bound: 0.2\n",
      "error clearing threshold: 0.01\n",
      "iterations threshold: 20\n",
      "budget type: constant\n",
      "\n",
      "get_clearing_error: Clearing error: 0.04020225331712231\n",
      "get_clearing_error: Clearing error: 0.04292346561128148\n",
      "get_clearing_error: Clearing error: 0.04283587578153462\n",
      "get_clearing_error: Clearing error: 0.04447592090865855\n",
      "get_clearing_error: Clearing error: 0.04881155605365302\n",
      "get_clearing_error: Clearing error: 0.050298286752953635\n",
      "get_clearing_error: Clearing error: 0.05082975685108627\n",
      "get_clearing_error: Clearing error: 0.04976785176869715\n",
      "get_clearing_error: Clearing error: 0.0655624117879725\n",
      "get_clearing_error: Clearing error: 0.06795831515327072\n",
      "get_clearing_error: Clearing error: 0.06618410882614156\n",
      "get_clearing_error: Clearing error: 0.053820081509449176\n",
      "get_clearing_error: Clearing error: 0.04194680394496436\n",
      "get_clearing_error: Clearing error: 0.032111315893457205\n",
      "get_clearing_error: Clearing error: 0.028124498239502638\n",
      "get_clearing_error: Clearing error: 0.025713023005869154\n",
      "get_clearing_error: Clearing error: 0.022980901718242946\n",
      "get_clearing_error: Clearing error: 0.02127056088415926\n",
      "get_clearing_error: Clearing error: 0.020328355906103227\n",
      "get_clearing_error: Clearing error: 0.021732502851432536\n",
      "get_clearing_error: Clearing error: 0.02157840723855397\n",
      "get_clearing_error: Clearing error: 0.02208875447164404\n",
      "new search start\n",
      "get_clearing_error: Clearing error: 0.04469219767133431\n",
      "get_clearing_error: Clearing error: 0.04994863715967947\n",
      "get_clearing_error: Clearing error: 0.048880484417338194\n",
      "get_clearing_error: Clearing error: 0.048200626500907\n",
      "get_clearing_error: Clearing error: 0.049071735516140795\n",
      "get_clearing_error: Clearing error: 0.05097412822939169\n",
      "get_clearing_error: Clearing error: 0.05013422703203235\n",
      "get_clearing_error: Clearing error: 0.04926954235717943\n",
      "get_clearing_error: Clearing error: 0.05033452651225589\n",
      "get_clearing_error: Clearing error: 0.05107274249982443\n",
      "get_clearing_error: Clearing error: 0.06640071281272258\n",
      "get_clearing_error: Clearing error: 0.0698920356739915\n",
      "get_clearing_error: Clearing error: 0.07051689329194402\n",
      "get_clearing_error: Clearing error: 0.07122306825470734\n",
      "get_clearing_error: Clearing error: 0.06406765778490246\n",
      "get_clearing_error: Clearing error: 0.056759944296580024\n",
      "get_clearing_error: Clearing error: 0.04812736718142578\n",
      "get_clearing_error: Clearing error: 0.0437541826720724\n",
      "get_clearing_error: Clearing error: 0.040052741292631665\n",
      "get_clearing_error: Clearing error: 0.033110227960948535\n",
      "get_clearing_error: Clearing error: 0.030697306248227394\n",
      "new search start\n",
      "get_clearing_error: Clearing error: 0.038640721059865824\n",
      "get_clearing_error: Clearing error: 0.041910585160112715\n",
      "get_clearing_error: Clearing error: 0.04450976144449777\n",
      "get_clearing_error: Clearing error: 0.04619873012964926\n",
      "get_clearing_error: Clearing error: 0.05023284687976084\n",
      "get_clearing_error: Clearing error: 0.04918156518870019\n",
      "get_clearing_error: Clearing error: 0.050107829391119\n",
      "get_clearing_error: Clearing error: 0.049593818198749404\n",
      "get_clearing_error: Clearing error: 0.05015980539572742\n",
      "get_clearing_error: Clearing error: 0.05523687027482546\n",
      "get_clearing_error: Clearing error: 0.06330375818944527\n",
      "get_clearing_error: Clearing error: 0.06007744039017561\n",
      "get_clearing_error: Clearing error: 0.06879720844445553\n",
      "get_clearing_error: Clearing error: 0.06922948960417859\n",
      "get_clearing_error: Clearing error: 0.07089589232047505\n",
      "get_clearing_error: Clearing error: 0.07193574311068296\n",
      "get_clearing_error: Clearing error: 0.06358912795267005\n",
      "get_clearing_error: Clearing error: 0.05532119827362247\n",
      "get_clearing_error: Clearing error: 0.049632095921443735\n",
      "get_clearing_error: Clearing error: 0.04437346607435296\n",
      "get_clearing_error: Clearing error: 0.04073931737245384\n",
      "new search start\n",
      "get_clearing_error: Clearing error: 0.04431379103564882\n",
      "get_clearing_error: Clearing error: 0.04277340674210402\n",
      "get_clearing_error: Clearing error: 0.04475755389909326\n",
      "get_clearing_error: Clearing error: 0.048967523363713454\n",
      "get_clearing_error: Clearing error: 0.046374047162028705\n",
      "get_clearing_error: Clearing error: 0.04854294255250542\n",
      "get_clearing_error: Clearing error: 0.04930093565386165\n",
      "get_clearing_error: Clearing error: 0.0485429546416845\n",
      "get_clearing_error: Clearing error: 0.04793978103180823\n",
      "get_clearing_error: Clearing error: 0.04945656334216909\n",
      "get_clearing_error: Clearing error: 0.0499054400068713\n",
      "get_clearing_error: Clearing error: 0.0509783270004652\n",
      "get_clearing_error: Clearing error: 0.06444816657839939\n",
      "get_clearing_error: Clearing error: 0.06270201974968061\n",
      "get_clearing_error: Clearing error: 0.06283638969951284\n",
      "get_clearing_error: Clearing error: 0.07010450657258142\n",
      "get_clearing_error: Clearing error: 0.0712790137402156\n",
      "get_clearing_error: Clearing error: 0.07213849467556414\n",
      "get_clearing_error: Clearing error: 0.06769277298625889\n",
      "get_clearing_error: Clearing error: 0.060465681207693085\n",
      "get_clearing_error: Clearing error: 0.05452250097138886\n",
      "new search start\n",
      "get_clearing_error: Clearing error: 0.03820739521036651\n",
      "get_clearing_error: Clearing error: 0.040191090936149525\n",
      "get_clearing_error: Clearing error: 0.04201710776745797\n",
      "get_clearing_error: Clearing error: 0.05014842155266209\n",
      "get_clearing_error: Clearing error: 0.050825014352906574\n",
      "get_clearing_error: Clearing error: 0.04926533726288568\n",
      "get_clearing_error: Clearing error: 0.05924948995107304\n",
      "get_clearing_error: Clearing error: 0.06077184500638496\n",
      "get_clearing_error: Clearing error: 0.07043700018748919\n",
      "get_clearing_error: Clearing error: 0.07066385527466917\n",
      "get_clearing_error: Clearing error: 0.058768442684024584\n",
      "get_clearing_error: Clearing error: 0.04742735970927237\n",
      "get_clearing_error: Clearing error: 0.04067522777636874\n",
      "get_clearing_error: Clearing error: 0.029647219961979495\n",
      "get_clearing_error: Clearing error: 0.027276550310126654\n",
      "get_clearing_error: Clearing error: 0.02295890374015513\n",
      "get_clearing_error: Clearing error: 0.024039339353411182\n",
      "get_clearing_error: Clearing error: 0.023434693551763315\n",
      "get_clearing_error: Clearing error: 0.0251564673654985\n",
      "get_clearing_error: Clearing error: 0.024947082440580307\n",
      "get_clearing_error: Clearing error: 0.018201062885574704\n",
      "new search start\n",
      "get_clearing_error: Clearing error: 0.03576497499128802\n",
      "get_clearing_error: Clearing error: 0.03819269871579683\n",
      "get_clearing_error: Clearing error: 0.04122780553883587\n",
      "get_clearing_error: Clearing error: 0.04389203380453914\n",
      "get_clearing_error: Clearing error: 0.046681728636659224\n",
      "get_clearing_error: Clearing error: 0.04927088899508464\n",
      "get_clearing_error: Clearing error: 0.04836314984095518\n",
      "get_clearing_error: Clearing error: 0.04897990522275534\n",
      "get_clearing_error: Clearing error: 0.047067288196216334\n",
      "get_clearing_error: Clearing error: 0.05049947916851759\n",
      "get_clearing_error: Clearing error: 0.04850804622995702\n",
      "get_clearing_error: Clearing error: 0.04910583718538626\n",
      "get_clearing_error: Clearing error: 0.0499967954893925\n",
      "get_clearing_error: Clearing error: 0.05841343321609753\n",
      "get_clearing_error: Clearing error: 0.06313018923744573\n",
      "get_clearing_error: Clearing error: 0.06820128095734052\n",
      "get_clearing_error: Clearing error: 0.07082642769010541\n",
      "get_clearing_error: Clearing error: 0.07135735618835125\n",
      "get_clearing_error: Clearing error: 0.06439691469366997\n",
      "get_clearing_error: Clearing error: 0.05502948264116067\n",
      "get_clearing_error: Clearing error: 0.04920931917810258\n",
      "new search start\n",
      "get_clearing_error: Clearing error: 0.0464436222956049\n",
      "get_clearing_error: Clearing error: 0.05635316062942483\n",
      "get_clearing_error: Clearing error: 0.06125888201480913\n",
      "get_clearing_error: Clearing error: 0.06422233614269497\n",
      "get_clearing_error: Clearing error: 0.06771924955122134\n",
      "get_clearing_error: Clearing error: 0.04902584222011778\n",
      "get_clearing_error: Clearing error: 0.032646931467876734\n",
      "get_clearing_error: Clearing error: 0.023929015091617968\n",
      "get_clearing_error: Clearing error: 0.019918776944312502\n",
      "get_clearing_error: Clearing error: 0.03060276049801819\n",
      "get_clearing_error: Clearing error: 0.03271878816200069\n",
      "get_clearing_error: Clearing error: 0.032298257269226305\n",
      "get_clearing_error: Clearing error: 0.0315370061949462\n",
      "get_clearing_error: Clearing error: 0.03290266368608564\n"
     ]
    },
    {
     "name": "stdout",
     "output_type": "stream",
     "text": [
      "get_clearing_error: Clearing error: 0.02796404934790789\n",
      "get_clearing_error: Clearing error: 0.024098259050262985\n",
      "get_clearing_error: Clearing error: 0.027104046735890074\n",
      "get_clearing_error: Clearing error: 0.03168544457781508\n",
      "get_clearing_error: Clearing error: 0.030315041324153386\n",
      "get_clearing_error: Clearing error: 0.03904911949804374\n",
      "get_clearing_error: Clearing error: 0.037093198055387806\n",
      "new search start\n",
      "get_clearing_error: Clearing error: 0.036999792687501476\n",
      "get_clearing_error: Clearing error: 0.04228431748037203\n",
      "get_clearing_error: Clearing error: 0.045667683613131525\n",
      "get_clearing_error: Clearing error: 0.049521918625644576\n",
      "get_clearing_error: Clearing error: 0.050474062854506875\n",
      "get_clearing_error: Clearing error: 0.05108232447215871\n",
      "get_clearing_error: Clearing error: 0.04993029346903469\n",
      "get_clearing_error: Clearing error: 0.05880248781087442\n",
      "get_clearing_error: Clearing error: 0.05441983263584976\n",
      "get_clearing_error: Clearing error: 0.0683627559973516\n",
      "get_clearing_error: Clearing error: 0.07101317524743447\n",
      "get_clearing_error: Clearing error: 0.07087062240032116\n",
      "get_clearing_error: Clearing error: 0.07139208979890044\n",
      "get_clearing_error: Clearing error: 0.06047543179378053\n",
      "get_clearing_error: Clearing error: 0.05166945004449313\n",
      "get_clearing_error: Clearing error: 0.04535912697477206\n",
      "get_clearing_error: Clearing error: 0.0360082799980139\n",
      "get_clearing_error: Clearing error: 0.03291895155966049\n",
      "get_clearing_error: Clearing error: 0.02879948235877825\n",
      "get_clearing_error: Clearing error: 0.027347679306475383\n",
      "get_clearing_error: Clearing error: 0.026480899395402536\n",
      "new search start\n",
      "get_clearing_error: Clearing error: 0.046065302408370076\n",
      "get_clearing_error: Clearing error: 0.04819738469053007\n",
      "get_clearing_error: Clearing error: 0.05105385296571767\n",
      "get_clearing_error: Clearing error: 0.05088915415303314\n",
      "get_clearing_error: Clearing error: 0.054247455502952464\n",
      "get_clearing_error: Clearing error: 0.05947384427896115\n",
      "get_clearing_error: Clearing error: 0.05465474020185149\n",
      "get_clearing_error: Clearing error: 0.06710106459888161\n",
      "get_clearing_error: Clearing error: 0.07029204863298907\n",
      "get_clearing_error: Clearing error: 0.07051330147654923\n",
      "get_clearing_error: Clearing error: 0.057198298779708806\n",
      "get_clearing_error: Clearing error: 0.04815441362791627\n",
      "get_clearing_error: Clearing error: 0.03708455896976\n",
      "get_clearing_error: Clearing error: 0.03303722397256129\n",
      "get_clearing_error: Clearing error: 0.028336717152851545\n",
      "get_clearing_error: Clearing error: 0.027713626004086698\n",
      "get_clearing_error: Clearing error: 0.026754686732646412\n",
      "get_clearing_error: Clearing error: 0.02787007875982899\n",
      "get_clearing_error: Clearing error: 0.026869013477666518\n",
      "get_clearing_error: Clearing error: 0.027624107366932566\n",
      "get_clearing_error: Clearing error: 0.01831961088407749\n",
      "new search start\n",
      "get_clearing_error: Clearing error: 0.04879958351080387\n",
      "get_clearing_error: Clearing error: 0.04910361870094449\n",
      "get_clearing_error: Clearing error: 0.04809917325132395\n",
      "get_clearing_error: Clearing error: 0.04753486795276603\n",
      "get_clearing_error: Clearing error: 0.04654556017370301\n",
      "get_clearing_error: Clearing error: 0.049333243115541166\n",
      "get_clearing_error: Clearing error: 0.05102595503399741\n",
      "get_clearing_error: Clearing error: 0.049890104191858124\n",
      "get_clearing_error: Clearing error: 0.0489373537856605\n",
      "get_clearing_error: Clearing error: 0.04818927522927289\n",
      "get_clearing_error: Clearing error: 0.0489783844574319\n",
      "get_clearing_error: Clearing error: 0.049326900335208104\n",
      "get_clearing_error: Clearing error: 0.05123821739098258\n",
      "get_clearing_error: Clearing error: 0.06637757361153912\n",
      "get_clearing_error: Clearing error: 0.06745817026478862\n",
      "get_clearing_error: Clearing error: 0.07097529271955141\n",
      "get_clearing_error: Clearing error: 0.07066071617216181\n",
      "get_clearing_error: Clearing error: 0.07100524240732517\n",
      "get_clearing_error: Clearing error: 0.07218222429138271\n",
      "get_clearing_error: Clearing error: 0.06758154909148552\n",
      "get_clearing_error: Clearing error: 0.06192418369954736\n",
      "new search start\n",
      "get_clearing_error: Clearing error: 0.04170771688650031\n",
      "get_clearing_error: Clearing error: 0.0513800500132475\n",
      "get_clearing_error: Clearing error: 0.05712024287941402\n",
      "get_clearing_error: Clearing error: 0.0634608196933084\n",
      "get_clearing_error: Clearing error: 0.06947737891715705\n",
      "get_clearing_error: Clearing error: 0.07044102390779292\n",
      "get_clearing_error: Clearing error: 0.05193310859829869\n",
      "get_clearing_error: Clearing error: 0.03659419390010289\n",
      "get_clearing_error: Clearing error: 0.028348262500836826\n",
      "get_clearing_error: Clearing error: 0.022982373281465494\n",
      "get_clearing_error: Clearing error: 0.019124650339950797\n",
      "get_clearing_error: Clearing error: 0.01595488092134501\n",
      "get_clearing_error: Clearing error: 0.013501632255377125\n",
      "get_clearing_error: Clearing error: 0.011620654005470746\n",
      "get_clearing_error: Clearing error: 0.010242752381612718\n",
      "get_clearing_error: Clearing error: 0.009089972730988025\n",
      "Minimum clearing error: 0.009089972730988025\n",
      "Alpha_star: -18.850401613561502\n",
      "Beta star: [-382.8473874   -50.2591013   448.98734165]\n",
      "Treatment probabilities saved to: data/sim_data_probs.csv\n",
      "Treatment assignments saved to: data/sim_data_assignments.csv\n"
     ]
    }
   ],
   "source": [
    "!python ../exam/compute_probs.py --data data/sim_data.csv --output data/sim_data_probs.csv --assign_output data/sim_data_assignments.csv --index --pbound 0.2"
   ]
  },
  {
   "cell_type": "code",
   "execution_count": 62,
   "metadata": {},
   "outputs": [
    {
     "name": "stdout",
     "output_type": "stream",
     "text": [
      "           control  treatment1  treatment2\n",
      "subject0  0.200601    0.307711    0.491688\n",
      "subject1  0.200601    0.307711    0.491688\n",
      "subject2  0.200601    0.307711    0.491688\n",
      "subject3  0.200601    0.307711    0.491688\n",
      "subject4  0.200601    0.599399    0.200000\n",
      "          assignment\n",
      "subject0  treatment2\n",
      "subject1  treatment2\n",
      "subject2     control\n",
      "subject3  treatment2\n",
      "subject4  treatment1\n"
     ]
    }
   ],
   "source": [
    "probs = pd.read_csv(\"data/sim_data_probs.csv\", index_col = 0)\n",
    "print(probs.head())\n",
    "assignments = pd.read_csv(\"data/sim_data_assignments.csv\", index_col = 0)\n",
    "print(assignments.head())"
   ]
  },
  {
   "cell_type": "markdown",
   "metadata": {},
   "source": [
    "## Estimate Treatment Effects"
   ]
  },
  {
   "cell_type": "markdown",
   "metadata": {},
   "source": [
    "The treatment effect estimation tool requires two inputs: \n",
    "1. a path to the post-experiment saved data with columns ordered by [outcome (Y), treatment assignment (D), X] where X is any number of control variables to include in the effect estimation. \n",
    "2. a path to the saved treatment probabilities "
   ]
  },
  {
   "cell_type": "code",
   "execution_count": 63,
   "metadata": {},
   "outputs": [
    {
     "name": "stdout",
     "output_type": "stream",
     "text": [
      "[[-2.78148316 38.21851684 13.21851684]\n",
      " [17.09378918 58.09378918 33.09378918]\n",
      " [17.34526741 58.34526741 33.34526741]\n",
      " [15.10134814 56.10134814 31.10134814]\n",
      " [-1.04175403 39.95824597 14.95824597]]\n",
      "[13.21851684 33.09378918 17.34526741 31.10134814 39.95824597]\n"
     ]
    }
   ],
   "source": [
    "# Get outcomes based on assignments\n",
    "assignments[\"assign_ind\"] = assignments.assignment.astype('category').cat.reorder_categories(['control', 'treatment1', 'treatment2'], ordered=True)\n",
    "assignments[\"assign_ind\"] = assignments.assign_ind.cat.codes\n",
    "outcomes = Y[(np.arange(1000), assignments.assign_ind.to_numpy().flatten())]\n",
    "print(Y[:5])\n",
    "print(outcomes[:5])"
   ]
  },
  {
   "cell_type": "code",
   "execution_count": 64,
   "metadata": {},
   "outputs": [
    {
     "data": {
      "text/html": [
       "<div>\n",
       "<style scoped>\n",
       "    .dataframe tbody tr th:only-of-type {\n",
       "        vertical-align: middle;\n",
       "    }\n",
       "\n",
       "    .dataframe tbody tr th {\n",
       "        vertical-align: top;\n",
       "    }\n",
       "\n",
       "    .dataframe thead th {\n",
       "        text-align: right;\n",
       "    }\n",
       "</style>\n",
       "<table border=\"1\" class=\"dataframe\">\n",
       "  <thead>\n",
       "    <tr style=\"text-align: right;\">\n",
       "      <th></th>\n",
       "      <th>0</th>\n",
       "      <th>assignment</th>\n",
       "      <th>X1</th>\n",
       "      <th>X2</th>\n",
       "      <th>X3</th>\n",
       "    </tr>\n",
       "  </thead>\n",
       "  <tbody>\n",
       "    <tr>\n",
       "      <th>0</th>\n",
       "      <td>13.218517</td>\n",
       "      <td>treatment2</td>\n",
       "      <td>-4.740738</td>\n",
       "      <td>0.496625</td>\n",
       "      <td>-0.646776</td>\n",
       "    </tr>\n",
       "    <tr>\n",
       "      <th>1</th>\n",
       "      <td>33.093789</td>\n",
       "      <td>treatment2</td>\n",
       "      <td>-0.796322</td>\n",
       "      <td>-1.696652</td>\n",
       "      <td>-2.953514</td>\n",
       "    </tr>\n",
       "    <tr>\n",
       "      <th>2</th>\n",
       "      <td>17.345267</td>\n",
       "      <td>control</td>\n",
       "      <td>1.192710</td>\n",
       "      <td>-2.003453</td>\n",
       "      <td>-2.331727</td>\n",
       "    </tr>\n",
       "    <tr>\n",
       "      <th>3</th>\n",
       "      <td>31.101348</td>\n",
       "      <td>treatment2</td>\n",
       "      <td>1.211338</td>\n",
       "      <td>0.291421</td>\n",
       "      <td>-3.654201</td>\n",
       "    </tr>\n",
       "    <tr>\n",
       "      <th>4</th>\n",
       "      <td>39.958246</td>\n",
       "      <td>treatment1</td>\n",
       "      <td>0.135781</td>\n",
       "      <td>-3.155601</td>\n",
       "      <td>2.853351</td>\n",
       "    </tr>\n",
       "  </tbody>\n",
       "</table>\n",
       "</div>"
      ],
      "text/plain": [
       "           0  assignment        X1        X2        X3\n",
       "0  13.218517  treatment2 -4.740738  0.496625 -0.646776\n",
       "1  33.093789  treatment2 -0.796322 -1.696652 -2.953514\n",
       "2  17.345267     control  1.192710 -2.003453 -2.331727\n",
       "3  31.101348  treatment2  1.211338  0.291421 -3.654201\n",
       "4  39.958246  treatment1  0.135781 -3.155601  2.853351"
      ]
     },
     "execution_count": 64,
     "metadata": {},
     "output_type": "execute_result"
    }
   ],
   "source": [
    "# Bind simulated outcomes Y with treatment assignments and controls\n",
    "y_df = pd.DataFrame(outcomes)\n",
    "control_df = pd.DataFrame(controls, columns = ['X1', 'X2', 'X3'])\n",
    "assignments = assignments.reset_index()\n",
    "outcome_df = pd.concat([y_df, assignments.assignment, control_df], axis = 1)\n",
    "outcome_df.head()"
   ]
  },
  {
   "cell_type": "code",
   "execution_count": 65,
   "metadata": {},
   "outputs": [],
   "source": [
    "outcome_df.to_csv(\"data/sim_data_outcomes.csv\")"
   ]
  },
  {
   "cell_type": "markdown",
   "metadata": {},
   "source": [
    "Now we can run treatment effect estimation using our saved outcome data and (previously) saved probability data. Note that both files have an index column with subject ids, so we will need to toggle the `--dindex` and `--pindex` flags. "
   ]
  },
  {
   "cell_type": "code",
   "execution_count": 66,
   "metadata": {},
   "outputs": [
    {
     "name": "stdout",
     "output_type": "stream",
     "text": [
      "usage: estimate_effects.py [-h] --data DATA --probs PROBS [--output OUTPUT]\r\n",
      "                           [--control CONTROL] [--method METHOD] [--dindex]\r\n",
      "                           [--pindex] [--noverb]\r\n",
      "\r\n",
      "optional arguments:\r\n",
      "  -h, --help         show this help message and exit\r\n",
      "  --data DATA        Path to CSV containing experimental outcomes Y, treatment\r\n",
      "                     assignments D, and any controls X, in that order.\r\n",
      "  --probs PROBS      Path to CSV containing treatment probabilities.\r\n",
      "  --output OUTPUT    Path to save CSV file with estimation output.\r\n",
      "  --control CONTROL  Name of column of control treatment.\r\n",
      "  --method METHOD    Method to apply to estimation. Either 'matched' or\r\n",
      "                     'single'.\r\n",
      "  --dindex           Flag to indicate whether 'data' file has an index column.\r\n",
      "  --pindex           Flag to indicate whether 'probs' file has index column.\r\n",
      "  --noverb           Flag to turn off printing estimation results to stdout.\r\n"
     ]
    }
   ],
   "source": [
    "!python ../exam/estimate_effects.py -h"
   ]
  },
  {
   "cell_type": "markdown",
   "metadata": {},
   "source": [
    "As with the API, the command line tool offers both estimation methods. The default will be to estimate the unbiased ATE with the propensity score matched estimator. \n",
    "\n",
    "**Note:** The package will automatically check whether certain subpopulation regressions are rank-deficient and drop them from estimation. This may skew the estimation results if your computed propensity vectors are not coarse enough."
   ]
  },
  {
   "cell_type": "code",
   "execution_count": 168,
   "metadata": {},
   "outputs": [
    {
     "name": "stdout",
     "output_type": "stream",
     "text": [
      "---------------------------------------------------------------------------\n",
      "ATE estimation method: propensity subpopulation regressions\n",
      "---------------------------------------------------------------------------\n",
      "/Users/rl874/opt/anaconda3/envs/exam/lib/python3.9/site-packages/pandas/core/indexing.py:873: PerformanceWarning: indexing past lexsort depth may impact performance.\n",
      "  return self._getitem_tuple(key)\n",
      "Total rank-deficient samples dropped: 174\n",
      "Estimated treatment effects:\n",
      "treatment1    41.029376\n",
      "treatment2    15.995976\n",
      "dtype: float64\n",
      "P-values:\n",
      "treatment1    0.0\n",
      "treatment2    0.0\n",
      "Name: p-value, dtype: float64\n"
     ]
    }
   ],
   "source": [
    "!python ../exam/estimate_effects.py --data data/sim_data_outcomes.csv --probs data/sim_data_probs.csv --output data/sim_data_effects.csv --dindex --pindex"
   ]
  },
  {
   "cell_type": "markdown",
   "metadata": {},
   "source": [
    "We can compare the estimates against our true effects"
   ]
  },
  {
   "cell_type": "code",
   "execution_count": 151,
   "metadata": {},
   "outputs": [
    {
     "data": {
      "text/plain": [
       "array([ 0, 41, 16])"
      ]
     },
     "execution_count": 151,
     "metadata": {},
     "output_type": "execute_result"
    }
   ],
   "source": [
    "effects"
   ]
  }
 ],
 "metadata": {
  "kernelspec": {
   "display_name": "Python 3",
   "language": "python",
   "name": "python3"
  },
  "language_info": {
   "codemirror_mode": {
    "name": "ipython",
    "version": 3
   },
   "file_extension": ".py",
   "mimetype": "text/x-python",
   "name": "python",
   "nbconvert_exporter": "python",
   "pygments_lexer": "ipython3",
   "version": "3.9.0"
  }
 },
 "nbformat": 4,
 "nbformat_minor": 4
}
