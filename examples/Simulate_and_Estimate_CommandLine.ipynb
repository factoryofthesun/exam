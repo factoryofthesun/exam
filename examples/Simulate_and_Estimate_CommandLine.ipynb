{
 "cells": [
  {
   "cell_type": "markdown",
   "metadata": {},
   "source": [
    "#### This notebook is designed to demonstrate the functioning of the `exam` command line tool by simulating treatment effect, WTP, and predicted treatment data, then running through the probability assignment and effect estimation portions of the package."
   ]
  },
  {
   "cell_type": "code",
   "execution_count": 1,
   "metadata": {},
   "outputs": [],
   "source": [
    "import numpy as np\n",
    "import pandas as pd"
   ]
  },
  {
   "cell_type": "markdown",
   "metadata": {},
   "source": [
    "## Simulate Data"
   ]
  },
  {
   "cell_type": "markdown",
   "metadata": {},
   "source": [
    "We will simulate the effect of 2 treatments (and 1 control group), along with some randomly generated control variables, for a sample of 1000."
   ]
  },
  {
   "cell_type": "code",
   "execution_count": 2,
   "metadata": {},
   "outputs": [],
   "source": [
    "np.random.seed(2)\n",
    "n_treatments = 2\n",
    "\n",
    "effects = np.random.choice(range(1,50), n_treatments)\n",
    "effects = np.append(0, effects)\n",
    "controls = np.random.uniform(-5, 5, size = (1000, 3))\n",
    "control_effects = np.random.choice(range(-5,5), replace = False, size = 3)\n",
    "error = np.random.uniform(size = 1000)\n",
    "Y = np.sum(controls*control_effects, axis=1)[:,np.newaxis] + np.repeat(effects[np.newaxis,:], 1000, axis=0) + error[:,np.newaxis]"
   ]
  },
  {
   "cell_type": "code",
   "execution_count": 3,
   "metadata": {},
   "outputs": [
    {
     "data": {
      "text/plain": [
       "array([[-2.78148316, 38.21851684, 13.21851684],\n",
       "       [17.09378918, 58.09378918, 33.09378918],\n",
       "       [17.34526741, 58.34526741, 33.34526741],\n",
       "       [15.10134814, 56.10134814, 31.10134814],\n",
       "       [-1.04175403, 39.95824597, 14.95824597]])"
      ]
     },
     "execution_count": 3,
     "metadata": {},
     "output_type": "execute_result"
    }
   ],
   "source": [
    "Y[:5]"
   ]
  },
  {
   "cell_type": "markdown",
   "metadata": {},
   "source": [
    "WTP (willingness to pay) and PTE (predicted treatment effects) will be computed as a function of the true effects. Specifically, WTP will be the quintile index of the control effects on outcome and PTE will be half of the true treatment effects."
   ]
  },
  {
   "cell_type": "code",
   "execution_count": 5,
   "metadata": {},
   "outputs": [],
   "source": [
    "control_outcomes = controls*control_effects"
   ]
  },
  {
   "cell_type": "code",
   "execution_count": 6,
   "metadata": {},
   "outputs": [],
   "source": [
    "from scipy import stats\n",
    "wtp = np.array([stats.percentileofscore(control_outcomes.flatten(), x) for x in control_outcomes.flatten()]).reshape(1000,3)\n",
    "wtp = (np.ceil(wtp/20)*20).astype(int)"
   ]
  },
  {
   "cell_type": "code",
   "execution_count": 7,
   "metadata": {},
   "outputs": [],
   "source": [
    "pte = np.repeat(effects[np.newaxis,:]/2, 1000, axis=0)"
   ]
  },
  {
   "cell_type": "code",
   "execution_count": 8,
   "metadata": {},
   "outputs": [
    {
     "name": "stdout",
     "output_type": "stream",
     "text": [
      "[[ 40  60  80]\n",
      " [ 60  80 100]\n",
      " [ 60  80 100]\n",
      " [ 60  60 100]\n",
      " [ 60 100  20]]\n",
      "[[ 0.  20.5  8. ]\n",
      " [ 0.  20.5  8. ]\n",
      " [ 0.  20.5  8. ]\n",
      " [ 0.  20.5  8. ]\n",
      " [ 0.  20.5  8. ]]\n"
     ]
    }
   ],
   "source": [
    "print(wtp[:5])\n",
    "print(pte[:5])"
   ]
  },
  {
   "cell_type": "markdown",
   "metadata": {},
   "source": [
    "## Compute treatment probabilities"
   ]
  },
  {
   "cell_type": "markdown",
   "metadata": {},
   "source": [
    "The `exam` compute_probs.py command line tool requires a saved CSV file containing the WTP columns, followed by the PTE columns. The indices of the file will be assumed to be the subject ids, and (unless otherwise specified) the column names will be assumed to be the treatment labels. "
   ]
  },
  {
   "cell_type": "code",
   "execution_count": 9,
   "metadata": {},
   "outputs": [],
   "source": [
    "# Save WTP and PTE data\n",
    "tot_arr = np.column_stack([wtp, pte])\n",
    "df = pd.DataFrame(tot_arr, columns = [\"control\", \"treatment1\", \"treatment2\"]*2, index = [f\"subject{i}\" for i in range(1000)])\n",
    "df.to_csv(\"data/sim_data.csv\")"
   ]
  },
  {
   "cell_type": "markdown",
   "metadata": {},
   "source": [
    "With just WTP and PTE, we can now compute our welfare-optimal treatment probabilities. `compute_probs.py` can take a variety of parameters, but the only required one is our saved data. "
   ]
  },
  {
   "cell_type": "code",
   "execution_count": 169,
   "metadata": {},
   "outputs": [
    {
     "name": "stdout",
     "output_type": "stream",
     "text": [
      "usage: compute_probs.py [-h] --data DATA [--output OUTPUT]\r\n",
      "                        [--assign_output ASSIGN_OUTPUT]\r\n",
      "                        [--capacity [CAPACITY ...]] [--pbound PBOUND]\r\n",
      "                        [--error ERROR] [--iterations ITERATIONS]\r\n",
      "                        [--budget BUDGET] [--subject_budgets SUBJECT_BUDGETS]\r\n",
      "                        [--round ROUND] [--labels [LABELS ...]] [--index]\r\n",
      "\r\n",
      "optional arguments:\r\n",
      "  -h, --help            show this help message and exit\r\n",
      "  --data DATA           Path to CSV containing WTP and PTE, in that order. If\r\n",
      "                        --index flag toggled, the first column will be assumed\r\n",
      "                        to be the index containing subject ids. The columns\r\n",
      "                        will be taken to be treatment labels, unless otherwise\r\n",
      "                        specified in --labels.\r\n",
      "  --output OUTPUT       Path to save CSV file with treatment probabilities.\r\n",
      "  --assign_output ASSIGN_OUTPUT\r\n",
      "                        Path to save CSV file with treatment assignments.\r\n",
      "  --capacity [CAPACITY ...]\r\n",
      "                        List of treatment capacities (integer).\r\n",
      "  --pbound PBOUND       The minimum bound for any treatment assignment\r\n",
      "                        probability. All computed probabilities will be\r\n",
      "                        constrained within [e, 1-e] where e is the probability\r\n",
      "                        bound.\r\n",
      "  --error ERROR         Minimum market clearing error.\r\n",
      "  --iterations ITERATIONS\r\n",
      "                        Maximum number of algorithm iterations before a new\r\n",
      "                        search is conducted.\r\n",
      "  --budget BUDGET       Common budget to distribute to every subject.\r\n",
      "  --subject_budgets SUBJECT_BUDGETS\r\n",
      "                        Path to CSV file containing subject-specific budgets.\r\n",
      "  --round ROUND         Decimal places to round optimal probabilities. Use to\r\n",
      "                        ensure coarseness of propensity vectors.\r\n",
      "  --labels [LABELS ...]\r\n",
      "                        List of treatment labels.\r\n",
      "  --index               Flag to indicate data has index column to use\r\n"
     ]
    }
   ],
   "source": [
    "!python ../exam/compute_probs.py -h"
   ]
  },
  {
   "cell_type": "markdown",
   "metadata": {},
   "source": [
    "We will save the computed probabilities to \"data/sim_data_probs.csv\" and our assigned treatments to \"data/sim_data_assignments.csv\". Note that our saved data has an index column with subject ids, so we will need to toggle the `--index` flag. We will also set a probability bound so that no one subject is guaranteed a particular treatment. "
   ]
  },
  {
   "cell_type": "code",
   "execution_count": 177,
   "metadata": {},
   "outputs": [
    {
     "name": "stdout",
     "output_type": "stream",
     "text": [
      "compute_probs: Parameters\n",
      "--------------------------------------------------\n",
      "# treatments: 3\n",
      "# subjects: 1000\n",
      "capacity: [334 333 333]\n",
      "epsilon-bound: 0.2\n",
      "error clearing threshold: 0.01\n",
      "iterations threshold: 20\n",
      "budget type: constant\n",
      "\n",
      "get_clearing_error: Clearing error: 0.04355442084763332\n",
      "get_clearing_error: Clearing error: 0.04928635935140773\n",
      "get_clearing_error: Clearing error: 0.04978825685318274\n",
      "get_clearing_error: Clearing error: 0.049434905522447246\n",
      "get_clearing_error: Clearing error: 0.04753579242932104\n",
      "get_clearing_error: Clearing error: 0.0498272609021343\n",
      "get_clearing_error: Clearing error: 0.04857309080125088\n",
      "get_clearing_error: Clearing error: 0.05085809874360182\n",
      "get_clearing_error: Clearing error: 0.05020297753601493\n",
      "get_clearing_error: Clearing error: 0.04899823341150435\n",
      "get_clearing_error: Clearing error: 0.049399708296320774\n",
      "get_clearing_error: Clearing error: 0.050766194443281426\n",
      "get_clearing_error: Clearing error: 0.057629701241564704\n",
      "get_clearing_error: Clearing error: 0.06698248440986818\n",
      "get_clearing_error: Clearing error: 0.070220923290978\n",
      "get_clearing_error: Clearing error: 0.07123459078074945\n",
      "get_clearing_error: Clearing error: 0.0712596450317104\n",
      "get_clearing_error: Clearing error: 0.0642017287517045\n",
      "get_clearing_error: Clearing error: 0.05789494003979249\n",
      "get_clearing_error: Clearing error: 0.052908525791138826\n",
      "get_clearing_error: Clearing error: 0.04727613073589759\n",
      "get_clearing_error: Clearing error: 0.04213870222560141\n",
      "new search start\n",
      "get_clearing_error: Clearing error: 0.04241134978773152\n",
      "get_clearing_error: Clearing error: 0.04418112216592539\n",
      "get_clearing_error: Clearing error: 0.04453548542478969\n",
      "get_clearing_error: Clearing error: 0.04577021254394224\n",
      "get_clearing_error: Clearing error: 0.04879624605596763\n",
      "get_clearing_error: Clearing error: 0.04920310390722337\n",
      "get_clearing_error: Clearing error: 0.049445816934027886\n",
      "get_clearing_error: Clearing error: 0.049349844995691304\n",
      "get_clearing_error: Clearing error: 0.04905569254780669\n",
      "get_clearing_error: Clearing error: 0.04835664575612243\n",
      "get_clearing_error: Clearing error: 0.04842356574788135\n",
      "get_clearing_error: Clearing error: 0.04971153019448057\n",
      "get_clearing_error: Clearing error: 0.053178577360701355\n",
      "get_clearing_error: Clearing error: 0.04776323971867863\n",
      "get_clearing_error: Clearing error: 0.063063953900074\n",
      "get_clearing_error: Clearing error: 0.0509924719345431\n",
      "get_clearing_error: Clearing error: 0.054419959480913965\n",
      "get_clearing_error: Clearing error: 0.06727000645290547\n",
      "get_clearing_error: Clearing error: 0.06758079861073961\n",
      "get_clearing_error: Clearing error: 0.07101364844486137\n",
      "get_clearing_error: Clearing error: 0.07178466343071253\n",
      "new search start\n",
      "get_clearing_error: Clearing error: 0.04839988038643223\n",
      "get_clearing_error: Clearing error: 0.050491235245558146\n",
      "get_clearing_error: Clearing error: 0.04869197521185127\n",
      "get_clearing_error: Clearing error: 0.05011423618941015\n",
      "get_clearing_error: Clearing error: 0.04903446342105988\n",
      "get_clearing_error: Clearing error: 0.04887643195622793\n",
      "get_clearing_error: Clearing error: 0.049420202977940975\n",
      "get_clearing_error: Clearing error: 0.06639210923301621\n",
      "get_clearing_error: Clearing error: 0.06823280140734136\n",
      "get_clearing_error: Clearing error: 0.06986337939205264\n",
      "get_clearing_error: Clearing error: 0.07107996304124518\n",
      "get_clearing_error: Clearing error: 0.07029619223798252\n",
      "get_clearing_error: Clearing error: 0.060460061108802365\n",
      "get_clearing_error: Clearing error: 0.052915047894610524\n",
      "get_clearing_error: Clearing error: 0.04722087355231753\n",
      "get_clearing_error: Clearing error: 0.04104445739429467\n",
      "get_clearing_error: Clearing error: 0.03608886736149624\n",
      "get_clearing_error: Clearing error: 0.03313618440176037\n",
      "get_clearing_error: Clearing error: 0.0307543278742453\n",
      "get_clearing_error: Clearing error: 0.02868824723299984\n",
      "get_clearing_error: Clearing error: 0.026902801100579837\n",
      "new search start\n",
      "get_clearing_error: Clearing error: 0.04882524218674577\n",
      "get_clearing_error: Clearing error: 0.048918934616296934\n",
      "get_clearing_error: Clearing error: 0.04651392751625087\n",
      "get_clearing_error: Clearing error: 0.049335446001657644\n",
      "get_clearing_error: Clearing error: 0.049538867840968004\n",
      "get_clearing_error: Clearing error: 0.04954989172410602\n",
      "get_clearing_error: Clearing error: 0.04935439109783262\n",
      "get_clearing_error: Clearing error: 0.051115577274893666\n",
      "get_clearing_error: Clearing error: 0.04930293813743605\n",
      "get_clearing_error: Clearing error: 0.06357426311873957\n",
      "get_clearing_error: Clearing error: 0.06625002402942451\n",
      "get_clearing_error: Clearing error: 0.06421159744334864\n",
      "get_clearing_error: Clearing error: 0.07079778002904373\n",
      "get_clearing_error: Clearing error: 0.07166725814336494\n",
      "get_clearing_error: Clearing error: 0.07023444970116309\n",
      "get_clearing_error: Clearing error: 0.06330466023862309\n",
      "get_clearing_error: Clearing error: 0.05520545429830785\n",
      "get_clearing_error: Clearing error: 0.05008959834172721\n",
      "get_clearing_error: Clearing error: 0.046023953159169975\n",
      "get_clearing_error: Clearing error: 0.04076384374236653\n",
      "get_clearing_error: Clearing error: 0.036353165448261025\n",
      "new search start\n",
      "get_clearing_error: Clearing error: 0.04972409146848978\n",
      "get_clearing_error: Clearing error: 0.049699534607152984\n",
      "get_clearing_error: Clearing error: 0.04997417982771175\n",
      "get_clearing_error: Clearing error: 0.06610220235555542\n",
      "get_clearing_error: Clearing error: 0.06835408653278435\n",
      "get_clearing_error: Clearing error: 0.06702554478760389\n",
      "get_clearing_error: Clearing error: 0.05062525472024978\n",
      "get_clearing_error: Clearing error: 0.03756164205478432\n",
      "get_clearing_error: Clearing error: 0.031503507155666036\n",
      "get_clearing_error: Clearing error: 0.027631692488866072\n",
      "get_clearing_error: Clearing error: 0.02596449609413404\n",
      "get_clearing_error: Clearing error: 0.024880870133257568\n",
      "get_clearing_error: Clearing error: 0.013099571235565278\n",
      "get_clearing_error: Clearing error: 0.012554002303093083\n",
      "get_clearing_error: Clearing error: 0.012487987096692058\n",
      "get_clearing_error: Clearing error: 0.014418802691547734\n",
      "get_clearing_error: Clearing error: 0.01610436629596532\n",
      "get_clearing_error: Clearing error: 0.013641049828748194\n",
      "get_clearing_error: Clearing error: 0.015609646532919266\n",
      "get_clearing_error: Clearing error: 0.018135749971904307\n",
      "get_clearing_error: Clearing error: 0.020289891524026438\n",
      "new search start\n",
      "get_clearing_error: Clearing error: 0.04194965501591204\n",
      "get_clearing_error: Clearing error: 0.05026829569013415\n",
      "get_clearing_error: Clearing error: 0.05047791464402287\n",
      "get_clearing_error: Clearing error: 0.05018896545169156\n",
      "get_clearing_error: Clearing error: 0.05062909696916988\n",
      "get_clearing_error: Clearing error: 0.058918014729037675\n",
      "get_clearing_error: Clearing error: 0.06254547462006588\n",
      "get_clearing_error: Clearing error: 0.066270169209478\n",
      "get_clearing_error: Clearing error: 0.06927044300439325\n",
      "get_clearing_error: Clearing error: 0.07098601585133461\n",
      "get_clearing_error: Clearing error: 0.06695751336867903\n",
      "get_clearing_error: Clearing error: 0.05490438238411463\n",
      "get_clearing_error: Clearing error: 0.048031682539941015\n",
      "get_clearing_error: Clearing error: 0.0415561990691441\n",
      "get_clearing_error: Clearing error: 0.03768277432982876\n",
      "get_clearing_error: Clearing error: 0.034830208312497064\n",
      "get_clearing_error: Clearing error: 0.032446595700744305\n",
      "get_clearing_error: Clearing error: 0.022833031657993913\n",
      "get_clearing_error: Clearing error: 0.023341941096152202\n",
      "get_clearing_error: Clearing error: 0.022133650692861637\n",
      "get_clearing_error: Clearing error: 0.0187804550348135\n",
      "new search start\n",
      "get_clearing_error: Clearing error: 0.0452057518770885\n",
      "get_clearing_error: Clearing error: 0.04795457222206745\n",
      "get_clearing_error: Clearing error: 0.04938424102033784\n",
      "get_clearing_error: Clearing error: 0.06338571221052254\n",
      "get_clearing_error: Clearing error: 0.06727134217919124\n",
      "get_clearing_error: Clearing error: 0.04478313061249446\n",
      "get_clearing_error: Clearing error: 0.033816135019607424\n",
      "get_clearing_error: Clearing error: 0.021797059722880877\n",
      "get_clearing_error: Clearing error: 0.018510571617624313\n",
      "get_clearing_error: Clearing error: 0.017681848994508222\n",
      "get_clearing_error: Clearing error: 0.019920401129744383\n",
      "get_clearing_error: Clearing error: 0.016691519593088094\n",
      "get_clearing_error: Clearing error: 0.014087620648749919\n"
     ]
    },
    {
     "name": "stdout",
     "output_type": "stream",
     "text": [
      "get_clearing_error: Clearing error: 0.011803056877826276\n",
      "get_clearing_error: Clearing error: 0.005532730059489983\n",
      "Minimum clearing error: 0.005532730059489983\n",
      "Alpha_star: -11.875095812703094\n",
      "Beta star: [-207.03287382 -116.36584446  355.7919686 ]\n",
      "Rounding probabilities to 2 decimals...\n",
      "[[0.2006006  0.30348094 0.49591846]\n",
      " [0.2006006  0.30348094 0.49591846]\n",
      " [0.2006006  0.30348094 0.49591846]\n",
      " ...\n",
      " [0.2006006  0.5993994  0.2       ]\n",
      " [0.2006006  0.5993994  0.2       ]\n",
      " [0.34351184 0.2        0.45648816]]\n",
      "[[0.2  0.3  0.5 ]\n",
      " [0.2  0.3  0.5 ]\n",
      " [0.2  0.3  0.5 ]\n",
      " ...\n",
      " [0.2  0.6  0.2 ]\n",
      " [0.2  0.6  0.2 ]\n",
      " [0.34 0.2  0.46]]\n",
      "Treatment probabilities saved to: data/sim_data_probs.csv\n",
      "Treatment assignments saved to: data/sim_data_assignments.csv\n"
     ]
    }
   ],
   "source": [
    "!python ../exam/compute_probs.py --data data/sim_data.csv --output data/sim_data_probs.csv --assign_output data/sim_data_assignments.csv --index --pbound 0.2"
   ]
  },
  {
   "cell_type": "code",
   "execution_count": 62,
   "metadata": {},
   "outputs": [
    {
     "name": "stdout",
     "output_type": "stream",
     "text": [
      "           control  treatment1  treatment2\n",
      "subject0  0.200601    0.307711    0.491688\n",
      "subject1  0.200601    0.307711    0.491688\n",
      "subject2  0.200601    0.307711    0.491688\n",
      "subject3  0.200601    0.307711    0.491688\n",
      "subject4  0.200601    0.599399    0.200000\n",
      "          assignment\n",
      "subject0  treatment2\n",
      "subject1  treatment2\n",
      "subject2     control\n",
      "subject3  treatment2\n",
      "subject4  treatment1\n"
     ]
    }
   ],
   "source": [
    "probs = pd.read_csv(\"data/sim_data_probs.csv\", index_col = 0)\n",
    "print(probs.head())\n",
    "assignments = pd.read_csv(\"data/sim_data_assignments.csv\", index_col = 0)\n",
    "print(assignments.head())"
   ]
  },
  {
   "cell_type": "markdown",
   "metadata": {},
   "source": [
    "## Estimate Treatment Effects"
   ]
  },
  {
   "cell_type": "markdown",
   "metadata": {},
   "source": [
    "The treatment effect estimation tool requires two inputs: \n",
    "1. a path to the post-experiment saved data with columns ordered by [outcome (Y), treatment assignment (D), X] where X is any number of control variables to include in the effect estimation. \n",
    "2. a path to the saved treatment probabilities "
   ]
  },
  {
   "cell_type": "code",
   "execution_count": 63,
   "metadata": {},
   "outputs": [
    {
     "name": "stdout",
     "output_type": "stream",
     "text": [
      "[[-2.78148316 38.21851684 13.21851684]\n",
      " [17.09378918 58.09378918 33.09378918]\n",
      " [17.34526741 58.34526741 33.34526741]\n",
      " [15.10134814 56.10134814 31.10134814]\n",
      " [-1.04175403 39.95824597 14.95824597]]\n",
      "[13.21851684 33.09378918 17.34526741 31.10134814 39.95824597]\n"
     ]
    }
   ],
   "source": [
    "# Get outcomes based on assignments\n",
    "assignments[\"assign_ind\"] = assignments.assignment.astype('category').cat.reorder_categories(['control', 'treatment1', 'treatment2'], ordered=True)\n",
    "assignments[\"assign_ind\"] = assignments.assign_ind.cat.codes\n",
    "outcomes = Y[(np.arange(1000), assignments.assign_ind.to_numpy().flatten())]\n",
    "print(Y[:5])\n",
    "print(outcomes[:5])"
   ]
  },
  {
   "cell_type": "code",
   "execution_count": 64,
   "metadata": {},
   "outputs": [
    {
     "data": {
      "text/html": [
       "<div>\n",
       "<style scoped>\n",
       "    .dataframe tbody tr th:only-of-type {\n",
       "        vertical-align: middle;\n",
       "    }\n",
       "\n",
       "    .dataframe tbody tr th {\n",
       "        vertical-align: top;\n",
       "    }\n",
       "\n",
       "    .dataframe thead th {\n",
       "        text-align: right;\n",
       "    }\n",
       "</style>\n",
       "<table border=\"1\" class=\"dataframe\">\n",
       "  <thead>\n",
       "    <tr style=\"text-align: right;\">\n",
       "      <th></th>\n",
       "      <th>0</th>\n",
       "      <th>assignment</th>\n",
       "      <th>X1</th>\n",
       "      <th>X2</th>\n",
       "      <th>X3</th>\n",
       "    </tr>\n",
       "  </thead>\n",
       "  <tbody>\n",
       "    <tr>\n",
       "      <th>0</th>\n",
       "      <td>13.218517</td>\n",
       "      <td>treatment2</td>\n",
       "      <td>-4.740738</td>\n",
       "      <td>0.496625</td>\n",
       "      <td>-0.646776</td>\n",
       "    </tr>\n",
       "    <tr>\n",
       "      <th>1</th>\n",
       "      <td>33.093789</td>\n",
       "      <td>treatment2</td>\n",
       "      <td>-0.796322</td>\n",
       "      <td>-1.696652</td>\n",
       "      <td>-2.953514</td>\n",
       "    </tr>\n",
       "    <tr>\n",
       "      <th>2</th>\n",
       "      <td>17.345267</td>\n",
       "      <td>control</td>\n",
       "      <td>1.192710</td>\n",
       "      <td>-2.003453</td>\n",
       "      <td>-2.331727</td>\n",
       "    </tr>\n",
       "    <tr>\n",
       "      <th>3</th>\n",
       "      <td>31.101348</td>\n",
       "      <td>treatment2</td>\n",
       "      <td>1.211338</td>\n",
       "      <td>0.291421</td>\n",
       "      <td>-3.654201</td>\n",
       "    </tr>\n",
       "    <tr>\n",
       "      <th>4</th>\n",
       "      <td>39.958246</td>\n",
       "      <td>treatment1</td>\n",
       "      <td>0.135781</td>\n",
       "      <td>-3.155601</td>\n",
       "      <td>2.853351</td>\n",
       "    </tr>\n",
       "  </tbody>\n",
       "</table>\n",
       "</div>"
      ],
      "text/plain": [
       "           0  assignment        X1        X2        X3\n",
       "0  13.218517  treatment2 -4.740738  0.496625 -0.646776\n",
       "1  33.093789  treatment2 -0.796322 -1.696652 -2.953514\n",
       "2  17.345267     control  1.192710 -2.003453 -2.331727\n",
       "3  31.101348  treatment2  1.211338  0.291421 -3.654201\n",
       "4  39.958246  treatment1  0.135781 -3.155601  2.853351"
      ]
     },
     "execution_count": 64,
     "metadata": {},
     "output_type": "execute_result"
    }
   ],
   "source": [
    "# Bind simulated outcomes Y with treatment assignments and controls\n",
    "y_df = pd.DataFrame(outcomes)\n",
    "control_df = pd.DataFrame(controls, columns = ['X1', 'X2', 'X3'])\n",
    "assignments = assignments.reset_index()\n",
    "outcome_df = pd.concat([y_df, assignments.assignment, control_df], axis = 1)\n",
    "outcome_df.head()"
   ]
  },
  {
   "cell_type": "code",
   "execution_count": 65,
   "metadata": {},
   "outputs": [],
   "source": [
    "outcome_df.to_csv(\"data/sim_data_outcomes.csv\")"
   ]
  },
  {
   "cell_type": "markdown",
   "metadata": {},
   "source": [
    "Now we can run treatment effect estimation using our saved outcome data and (previously) saved probability data. Note that both files have an index column with subject ids, so we will need to toggle the `--dindex` and `--pindex` flags. "
   ]
  },
  {
   "cell_type": "code",
   "execution_count": 66,
   "metadata": {},
   "outputs": [
    {
     "name": "stdout",
     "output_type": "stream",
     "text": [
      "usage: estimate_effects.py [-h] --data DATA --probs PROBS [--output OUTPUT]\r\n",
      "                           [--control CONTROL] [--method METHOD] [--dindex]\r\n",
      "                           [--pindex] [--noverb]\r\n",
      "\r\n",
      "optional arguments:\r\n",
      "  -h, --help         show this help message and exit\r\n",
      "  --data DATA        Path to CSV containing experimental outcomes Y, treatment\r\n",
      "                     assignments D, and any controls X, in that order.\r\n",
      "  --probs PROBS      Path to CSV containing treatment probabilities.\r\n",
      "  --output OUTPUT    Path to save CSV file with estimation output.\r\n",
      "  --control CONTROL  Name of column of control treatment.\r\n",
      "  --method METHOD    Method to apply to estimation. Either 'matched' or\r\n",
      "                     'single'.\r\n",
      "  --dindex           Flag to indicate whether 'data' file has an index column.\r\n",
      "  --pindex           Flag to indicate whether 'probs' file has index column.\r\n",
      "  --noverb           Flag to turn off printing estimation results to stdout.\r\n"
     ]
    }
   ],
   "source": [
    "!python ../exam/estimate_effects.py -h"
   ]
  },
  {
   "cell_type": "markdown",
   "metadata": {},
   "source": [
    "As with the API, the command line tool offers both estimation methods. The default will be to estimate the unbiased ATE with the propensity score matched estimator. \n",
    "\n",
    "**Note:** The package will automatically check whether certain subpopulation regressions are rank-deficient and drop them from estimation. This may skew the estimation results if your computed propensity vectors are not coarse enough."
   ]
  },
  {
   "cell_type": "code",
   "execution_count": 168,
   "metadata": {},
   "outputs": [
    {
     "name": "stdout",
     "output_type": "stream",
     "text": [
      "---------------------------------------------------------------------------\n",
      "ATE estimation method: propensity subpopulation regressions\n",
      "---------------------------------------------------------------------------\n",
      "/Users/rl874/opt/anaconda3/envs/exam/lib/python3.9/site-packages/pandas/core/indexing.py:873: PerformanceWarning: indexing past lexsort depth may impact performance.\n",
      "  return self._getitem_tuple(key)\n",
      "Total rank-deficient samples dropped: 174\n",
      "Estimated treatment effects:\n",
      "treatment1    41.029376\n",
      "treatment2    15.995976\n",
      "dtype: float64\n",
      "P-values:\n",
      "treatment1    0.0\n",
      "treatment2    0.0\n",
      "Name: p-value, dtype: float64\n"
     ]
    }
   ],
   "source": [
    "!python ../exam/estimate_effects.py --data data/sim_data_outcomes.csv --probs data/sim_data_probs.csv --output data/sim_data_effects.csv --dindex --pindex"
   ]
  },
  {
   "cell_type": "markdown",
   "metadata": {},
   "source": [
    "We can compare the estimates against our true effects"
   ]
  },
  {
   "cell_type": "code",
   "execution_count": 151,
   "metadata": {},
   "outputs": [
    {
     "data": {
      "text/plain": [
       "array([ 0, 41, 16])"
      ]
     },
     "execution_count": 151,
     "metadata": {},
     "output_type": "execute_result"
    }
   ],
   "source": [
    "effects"
   ]
  }
 ],
 "metadata": {
  "kernelspec": {
   "display_name": "Python 3",
   "language": "python",
   "name": "python3"
  },
  "language_info": {
   "codemirror_mode": {
    "name": "ipython",
    "version": 3
   },
   "file_extension": ".py",
   "mimetype": "text/x-python",
   "name": "python",
   "nbconvert_exporter": "python",
   "pygments_lexer": "ipython3",
   "version": "3.9.0"
  }
 },
 "nbformat": 4,
 "nbformat_minor": 4
}
